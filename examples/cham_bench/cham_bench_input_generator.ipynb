{
 "cells": [
  {
   "cell_type": "code",
   "execution_count": 11,
   "id": "bbdec8de",
   "metadata": {},
   "outputs": [],
   "source": [
    "import input_maker\n",
    "import os # Needed for checking file existence and content\n",
    "import numpy as np\n",
    "import pandas as pd"
   ]
  },
  {
   "cell_type": "code",
   "execution_count": 14,
   "id": "d30e7f16",
   "metadata": {},
   "outputs": [
    {
     "name": "stdout",
     "output_type": "stream",
     "text": [
      "Generating 154 particles with CMF=0.33...\n",
      "Output file: uniform_33.txt\n",
      "Successfully generated 'uniform_33.txt' with 154 entries.\n",
      "\n",
      "Checking if 'uniform_33.txt' exists...\n",
      "File 'uniform_33.txt' found!\n",
      "\n",
      "First 5 lines of the generated file:\n",
      "1\t2.80000000e-07\t3.30000000e-01\n",
      "2\t2.80000000e-07\t3.30000000e-01\n",
      "3\t2.80000000e-07\t3.30000000e-01\n",
      "4\t2.80000000e-07\t3.30000000e-01\n",
      "5\t2.80000000e-07\t3.30000000e-01\n",
      "6\t2.80000000e-07\t3.30000000e-01\n"
     ]
    }
   ],
   "source": [
    "# 2. Define your parameters\n",
    "n_cham_bench = 154\n",
    "m_emb = 2.8e-7 * np.ones(14) #solMass\n",
    "m_pl = 2.8e-8 * np.ones(140) #solMass\n",
    "m_cham_bench = np.concatenate((m_emb, m_pl))\n",
    "cmf_uni = 0.33\n",
    "output_file_example = \"uniform_33.txt\"\n",
    "\n",
    "# 3. Call the function to generate the file\n",
    "input_maker.generate_input_uniform(n_cham_bench, m_cham_bench, cmf_uni, output_file_example)\n",
    "\n",
    "# 4. (Optional) Verify the file was created and inspect its content\n",
    "print(f\"\\nChecking if '{output_file_example}' exists...\")\n",
    "if os.path.exists(output_file_example):\n",
    "    print(f\"File '{output_file_example}' found!\")\n",
    "    print(\"\\nFirst 5 lines of the generated file:\")\n",
    "    with open(output_file_example, 'r') as f:\n",
    "        for _ in range(6): # Read header + 5 data lines\n",
    "            line = f.readline()\n",
    "            if not line:\n",
    "                break\n",
    "            print(line.strip())\n",
    "else:\n",
    "    print(f\"File '{output_file_example}' was NOT found.\")"
   ]
  },
  {
   "cell_type": "markdown",
   "id": "64686a29",
   "metadata": {},
   "source": [
    "# Step-function input example"
   ]
  },
  {
   "cell_type": "code",
   "execution_count": 15,
   "id": "1ead7b71",
   "metadata": {},
   "outputs": [
    {
     "name": "stdout",
     "output_type": "stream",
     "text": [
      "Output file: cham_bench_step_b0.5_p0.1.txt\n",
      "Successfully generated 'cham_bench_step_b0.5_p0.1.txt' with 154 entries.\n",
      "Bound = 0.5, perc. of Fe trans. = 0.1, CMF_in = 0.5402, CMF_out = 0.297\n",
      "Output file: cham_bench_step_b0.5_p0.15.txt\n",
      "Successfully generated 'cham_bench_step_b0.5_p0.15.txt' with 154 entries.\n",
      "Bound = 0.5, perc. of Fe trans. = 0.15, CMF_in = 0.6452, CMF_out = 0.2805\n",
      "Output file: cham_bench_step_b0.5_p0.2.txt\n",
      "Successfully generated 'cham_bench_step_b0.5_p0.2.txt' with 154 entries.\n",
      "Bound = 0.5, perc. of Fe trans. = 0.2, CMF_in = 0.7503, CMF_out = 0.264\n",
      "Output file: cham_bench_step_b0.5_p0.25.txt\n",
      "Successfully generated 'cham_bench_step_b0.5_p0.25.txt' with 154 entries.\n",
      "Bound = 0.5, perc. of Fe trans. = 0.25, CMF_in = 0.8554, CMF_out = 0.2475\n",
      "Output file: cham_bench_step_b0.5_p0.3.txt\n",
      "Successfully generated 'cham_bench_step_b0.5_p0.3.txt' with 154 entries.\n",
      "Bound = 0.5, perc. of Fe trans. = 0.3, CMF_in = 0.9605, CMF_out = 0.231\n",
      "Output file: cham_bench_step_b0.6_p0.1.txt\n",
      "Successfully generated 'cham_bench_step_b0.6_p0.1.txt' with 154 entries.\n",
      "Bound = 0.6, perc. of Fe trans. = 0.1, CMF_in = 0.5119, CMF_out = 0.297\n",
      "Output file: cham_bench_step_b0.6_p0.15.txt\n",
      "Successfully generated 'cham_bench_step_b0.6_p0.15.txt' with 154 entries.\n",
      "Bound = 0.6, perc. of Fe trans. = 0.15, CMF_in = 0.6028, CMF_out = 0.2805\n",
      "Output file: cham_bench_step_b0.6_p0.2.txt\n",
      "Successfully generated 'cham_bench_step_b0.6_p0.2.txt' with 154 entries.\n",
      "Bound = 0.6, perc. of Fe trans. = 0.2, CMF_in = 0.6938, CMF_out = 0.264\n",
      "Output file: cham_bench_step_b0.6_p0.25.txt\n",
      "Successfully generated 'cham_bench_step_b0.6_p0.25.txt' with 154 entries.\n",
      "Bound = 0.6, perc. of Fe trans. = 0.25, CMF_in = 0.7847, CMF_out = 0.2475\n",
      "Output file: cham_bench_step_b0.6_p0.3.txt\n",
      "Successfully generated 'cham_bench_step_b0.6_p0.3.txt' with 154 entries.\n",
      "Bound = 0.6, perc. of Fe trans. = 0.3, CMF_in = 0.8757, CMF_out = 0.231\n",
      "Output file: cham_bench_step_b0.7_p0.1.txt\n",
      "Successfully generated 'cham_bench_step_b0.7_p0.1.txt' with 154 entries.\n",
      "Bound = 0.7, perc. of Fe trans. = 0.1, CMF_in = 0.507, CMF_out = 0.297\n",
      "Output file: cham_bench_step_b0.7_p0.15.txt\n",
      "Successfully generated 'cham_bench_step_b0.7_p0.15.txt' with 154 entries.\n",
      "Bound = 0.7, perc. of Fe trans. = 0.15, CMF_in = 0.5955, CMF_out = 0.2805\n",
      "Output file: cham_bench_step_b0.7_p0.2.txt\n",
      "Successfully generated 'cham_bench_step_b0.7_p0.2.txt' with 154 entries.\n",
      "Bound = 0.7, perc. of Fe trans. = 0.2, CMF_in = 0.684, CMF_out = 0.264\n",
      "Output file: cham_bench_step_b0.7_p0.25.txt\n",
      "Successfully generated 'cham_bench_step_b0.7_p0.25.txt' with 154 entries.\n",
      "Bound = 0.7, perc. of Fe trans. = 0.25, CMF_in = 0.7725, CMF_out = 0.2475\n",
      "Output file: cham_bench_step_b0.7_p0.3.txt\n",
      "Successfully generated 'cham_bench_step_b0.7_p0.3.txt' with 154 entries.\n",
      "Bound = 0.7, perc. of Fe trans. = 0.3, CMF_in = 0.861, CMF_out = 0.231\n",
      "Output file: cham_bench_step_b0.8_p0.1.txt\n",
      "Successfully generated 'cham_bench_step_b0.8_p0.1.txt' with 154 entries.\n",
      "Bound = 0.8, perc. of Fe trans. = 0.1, CMF_in = 0.402, CMF_out = 0.297\n",
      "Output file: cham_bench_step_b0.8_p0.15.txt\n",
      "Successfully generated 'cham_bench_step_b0.8_p0.15.txt' with 154 entries.\n",
      "Bound = 0.8, perc. of Fe trans. = 0.15, CMF_in = 0.438, CMF_out = 0.2805\n",
      "Output file: cham_bench_step_b0.8_p0.2.txt\n",
      "Successfully generated 'cham_bench_step_b0.8_p0.2.txt' with 154 entries.\n",
      "Bound = 0.8, perc. of Fe trans. = 0.2, CMF_in = 0.474, CMF_out = 0.264\n",
      "Output file: cham_bench_step_b0.8_p0.25.txt\n",
      "Successfully generated 'cham_bench_step_b0.8_p0.25.txt' with 154 entries.\n",
      "Bound = 0.8, perc. of Fe trans. = 0.25, CMF_in = 0.51, CMF_out = 0.2475\n",
      "Output file: cham_bench_step_b0.8_p0.3.txt\n",
      "Successfully generated 'cham_bench_step_b0.8_p0.3.txt' with 154 entries.\n",
      "Bound = 0.8, perc. of Fe trans. = 0.3, CMF_in = 0.546, CMF_out = 0.231\n"
     ]
    }
   ],
   "source": [
    "#Ueda V3 example\n",
    "\n",
    "percentages = [0.1, 0.15, 0.2, 0.25, 0.3]\n",
    "bounds = [0.5, 0.6, 0.7, 0.8]\n",
    "base_cmf = 0.33\n",
    "semis_emb = np.loadtxt('semis_emb_chambers.txt')\n",
    "semis_pl = np.loadtxt('semis_pl_chambers.txt')\n",
    "semis_cham_bench = np.concatenate((semis_emb, semis_pl))\n",
    "\n",
    "cmf_grid = pd.DataFrame(columns=['bounds', 'percentages', 'inner_cmf', 'outer_cmf'])\n",
    "grid_index = 0\n",
    "\n",
    "for bound in bounds:\n",
    "    for perc in percentages:\n",
    "        cmf1, cmf2 = input_maker.get_dual_cmf(m_cham_bench, [0], semis_cham_bench, [0], bound, perc, base_cmf)\n",
    "\n",
    "        # Skip if any CMF > 1\n",
    "        if cmf1 > 1 or cmf2 > 1:\n",
    "            print(f\"⚠️ Skipping: Bound = {bound}, perc. = {perc} → CMF > 1 (CMF_in = {cmf1:.4}, CMF_out = {cmf2:.4})\")\n",
    "            continue\n",
    "\n",
    "        input_maker.generate_input_step_function(\n",
    "            n_cham_bench, m_cham_bench, semis_cham_bench, cmf1, cmf2, bound,\n",
    "            f\"cham_bench_step_b{bound}_p{perc}.txt\"\n",
    "        )\n",
    "\n",
    "        cmf_grid.loc[grid_index] = {\n",
    "            'bounds': bound,\n",
    "            'percentages': perc,\n",
    "            'inner_cmf': cmf1,\n",
    "            'outer_cmf': cmf2\n",
    "        }\n",
    "\n",
    "        print(f\"Bound = {bound}, perc. of Fe trans. = {perc}, CMF_in = {cmf1:.4}, CMF_out = {cmf2:.4}\")\n",
    "        grid_index += 1"
   ]
  },
  {
   "cell_type": "code",
   "execution_count": 16,
   "id": "6d78b38d",
   "metadata": {},
   "outputs": [],
   "source": [
    "cmf_grid.to_csv(\"cham_bench_cmf_grid.csv\", index=False)"
   ]
  },
  {
   "cell_type": "code",
   "execution_count": null,
   "id": "1aea78e0",
   "metadata": {},
   "outputs": [],
   "source": []
  }
 ],
 "metadata": {
  "kernelspec": {
   "display_name": "haniyeh_research",
   "language": "python",
   "name": "python3"
  },
  "language_info": {
   "codemirror_mode": {
    "name": "ipython",
    "version": 3
   },
   "file_extension": ".py",
   "mimetype": "text/x-python",
   "name": "python",
   "nbconvert_exporter": "python",
   "pygments_lexer": "ipython3",
   "version": "3.13.2"
  }
 },
 "nbformat": 4,
 "nbformat_minor": 5
}
