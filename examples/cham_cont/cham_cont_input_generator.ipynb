{
 "cells": [
  {
   "cell_type": "code",
   "execution_count": 1,
   "id": "d30e7f16",
   "metadata": {},
   "outputs": [
    {
     "name": "stdout",
     "output_type": "stream",
     "text": [
      "Generating 154 particles with CMF=0.33...\n",
      "Output file: examples/cham_cont/uniform_33.txt\n",
      "Successfully generated 'examples/cham_cont/uniform_33.txt' with 154 entries.\n",
      "\n",
      "Checking if 'examples/cham_cont/uniform_33.txt' exists...\n",
      "File 'examples/cham_cont/uniform_33.txt' found!\n",
      "\n",
      "First 5 lines of the generated file:\n",
      "1\t3.57141400e-09\t3.30000000e-01\n",
      "2\t1.03145800e-08\t3.30000000e-01\n",
      "3\t1.63685300e-08\t3.30000000e-01\n",
      "4\t2.19106100e-08\t3.30000000e-01\n",
      "5\t2.53753200e-07\t3.30000000e-01\n",
      "6\t2.70527500e-08\t3.30000000e-01\n"
     ]
    }
   ],
   "source": [
    "# In a Jupyter Notebook cell:\n",
    "\n",
    "# 1. Import the function from your Python file\n",
    "#    Assuming your file is named 'generate_dbct_input_script.py'\n",
    "import input_maker\n",
    "import os # Needed for checking file existence and content\n",
    "import numpy as np\n",
    "import pandas as pd\n",
    "\n",
    "# 2. Define your parameters\n",
    "n_cham_cont = 154\n",
    "m_cham_cont = np.loadtxt('/Users/honeyeah/Codes/coregiver/examples/cham_cont/cont_masses.txt') #solMass\n",
    "cmf_uni = 0.33\n",
    "output_file_example = \"examples/cham_cont/uniform_33.txt\"\n",
    "\n",
    "# 3. Call the function to generate the file\n",
    "input_maker.generate_input_uniform(n_cham_cont, m_cham_cont, cmf_uni, output_file_example)\n",
    "\n",
    "# 4. (Optional) Verify the file was created and inspect its content\n",
    "print(f\"\\nChecking if '{output_file_example}' exists...\")\n",
    "if os.path.exists(output_file_example):\n",
    "    print(f\"File '{output_file_example}' found!\")\n",
    "    print(\"\\nFirst 5 lines of the generated file:\")\n",
    "    with open(output_file_example, 'r') as f:\n",
    "        for _ in range(6): # Read header + 5 data lines\n",
    "            line = f.readline()\n",
    "            if not line:\n",
    "                break\n",
    "            print(line.strip())\n",
    "else:\n",
    "    print(f\"File '{output_file_example}' was NOT found.\")"
   ]
  },
  {
   "cell_type": "markdown",
   "id": "64686a29",
   "metadata": {},
   "source": [
    "# Step-function input example"
   ]
  },
  {
   "cell_type": "code",
   "execution_count": null,
   "id": "1ead7b71",
   "metadata": {},
   "outputs": [
    {
     "name": "stdout",
     "output_type": "stream",
     "text": [
      "Output file: examples/cham_cont/cham_cont_step_b0.5_p0.1.txt\n",
      "Successfully generated 'examples/cham_cont/cham_cont_step_b0.5_p0.1.txt' with 154 entries.\n",
      "Bound = 0.5, perc. of Fe trans. = 0.1, CMF_in = 0.9859, CMF_out = 0.297\n",
      "⚠️ Skipping: Bound = 0.5, perc. = 0.15 → CMF > 1 (CMF_in = 1.314, CMF_out = 0.2805)\n",
      "⚠️ Skipping: Bound = 0.5, perc. = 0.2 → CMF > 1 (CMF_in = 1.642, CMF_out = 0.264)\n",
      "⚠️ Skipping: Bound = 0.5, perc. = 0.25 → CMF > 1 (CMF_in = 1.97, CMF_out = 0.2475)\n",
      "⚠️ Skipping: Bound = 0.5, perc. = 0.3 → CMF > 1 (CMF_in = 2.298, CMF_out = 0.231)\n",
      "Output file: examples/cham_cont/cham_cont_step_b0.6_p0.1.txt\n",
      "Successfully generated 'examples/cham_cont/cham_cont_step_b0.6_p0.1.txt' with 154 entries.\n",
      "Bound = 0.6, perc. of Fe trans. = 0.1, CMF_in = 0.7662, CMF_out = 0.297\n",
      "Output file: examples/cham_cont/cham_cont_step_b0.6_p0.15.txt\n",
      "Successfully generated 'examples/cham_cont/cham_cont_step_b0.6_p0.15.txt' with 154 entries.\n",
      "Bound = 0.6, perc. of Fe trans. = 0.15, CMF_in = 0.9843, CMF_out = 0.2805\n",
      "⚠️ Skipping: Bound = 0.6, perc. = 0.2 → CMF > 1 (CMF_in = 1.202, CMF_out = 0.264)\n",
      "⚠️ Skipping: Bound = 0.6, perc. = 0.25 → CMF > 1 (CMF_in = 1.42, CMF_out = 0.2475)\n",
      "⚠️ Skipping: Bound = 0.6, perc. = 0.3 → CMF > 1 (CMF_in = 1.639, CMF_out = 0.231)\n",
      "Output file: examples/cham_cont/cham_cont_step_b0.7_p0.1.txt\n",
      "Successfully generated 'examples/cham_cont/cham_cont_step_b0.7_p0.1.txt' with 154 entries.\n",
      "Bound = 0.7, perc. of Fe trans. = 0.1, CMF_in = 0.5983, CMF_out = 0.297\n",
      "Output file: examples/cham_cont/cham_cont_step_b0.7_p0.15.txt\n",
      "Successfully generated 'examples/cham_cont/cham_cont_step_b0.7_p0.15.txt' with 154 entries.\n",
      "Bound = 0.7, perc. of Fe trans. = 0.15, CMF_in = 0.7324, CMF_out = 0.2805\n",
      "Output file: examples/cham_cont/cham_cont_step_b0.7_p0.2.txt\n",
      "Successfully generated 'examples/cham_cont/cham_cont_step_b0.7_p0.2.txt' with 154 entries.\n",
      "Bound = 0.7, perc. of Fe trans. = 0.2, CMF_in = 0.8666, CMF_out = 0.264\n",
      "⚠️ Skipping: Bound = 0.7, perc. = 0.25 → CMF > 1 (CMF_in = 1.001, CMF_out = 0.2475)\n",
      "⚠️ Skipping: Bound = 0.7, perc. = 0.3 → CMF > 1 (CMF_in = 1.135, CMF_out = 0.231)\n",
      "Output file: examples/cham_cont/cham_cont_step_b0.8_p0.1.txt\n",
      "Successfully generated 'examples/cham_cont/cham_cont_step_b0.8_p0.1.txt' with 154 entries.\n",
      "Bound = 0.8, perc. of Fe trans. = 0.1, CMF_in = 0.4372, CMF_out = 0.297\n",
      "Output file: examples/cham_cont/cham_cont_step_b0.8_p0.15.txt\n",
      "Successfully generated 'examples/cham_cont/cham_cont_step_b0.8_p0.15.txt' with 154 entries.\n",
      "Bound = 0.8, perc. of Fe trans. = 0.15, CMF_in = 0.4908, CMF_out = 0.2805\n",
      "Output file: examples/cham_cont/cham_cont_step_b0.8_p0.2.txt\n",
      "Successfully generated 'examples/cham_cont/cham_cont_step_b0.8_p0.2.txt' with 154 entries.\n",
      "Bound = 0.8, perc. of Fe trans. = 0.2, CMF_in = 0.5443, CMF_out = 0.264\n",
      "Output file: examples/cham_cont/cham_cont_step_b0.8_p0.25.txt\n",
      "Successfully generated 'examples/cham_cont/cham_cont_step_b0.8_p0.25.txt' with 154 entries.\n",
      "Bound = 0.8, perc. of Fe trans. = 0.25, CMF_in = 0.5979, CMF_out = 0.2475\n",
      "Output file: examples/cham_cont/cham_cont_step_b0.8_p0.3.txt\n",
      "Successfully generated 'examples/cham_cont/cham_cont_step_b0.8_p0.3.txt' with 154 entries.\n",
      "Bound = 0.8, perc. of Fe trans. = 0.3, CMF_in = 0.6515, CMF_out = 0.231\n"
     ]
    }
   ],
   "source": [
    "#Ueda V3 example\n",
    "\n",
    "percentages = [0.1, 0.15, 0.2, 0.25, 0.3]\n",
    "bounds = [0.5, 0.6, 0.7, 0.8]\n",
    "base_cmf = 0.33\n",
    "semis_cham_cont = np.loadtxt('/Users/honeyeah/Codes/coregiver/examples/cham_cont/cont_semis.txt')\n",
    "\n",
    "cmf_grid = pd.DataFrame(columns=['bounds', 'percentages', 'inner_cmf', 'outer_cmf'])\n",
    "grid_index = 0\n",
    "\n",
    "for bound in bounds:\n",
    "    for perc in percentages:\n",
    "        cmf1, cmf2 = input_maker.get_dual_cmf(m_cham_cont, [0], semis_ueada_v3, [0], bound, perc, base_cmf)\n",
    "\n",
    "        # Skip if any CMF > 1\n",
    "        if cmf1 > 1 or cmf2 > 1:\n",
    "            print(f\"⚠️ Skipping: Bound = {bound}, perc. = {perc} → CMF > 1 (CMF_in = {cmf1:.4}, CMF_out = {cmf2:.4})\")\n",
    "            continue\n",
    "\n",
    "        input_maker.generate_input_step_function(\n",
    "            n_cham_cont, m_cham_cont, semis_cham_cont_v3, cmf1, cmf2, bound,\n",
    "            f\"examples/cham_cont/cham_cont_step_b{bound}_p{perc}.txt\"\n",
    "        )\n",
    "\n",
    "        cmf_grid.loc[grid_index] = {\n",
    "            'bounds': bound,\n",
    "            'percentages': perc,\n",
    "            'inner_cmf': cmf1,\n",
    "            'outer_cmf': cmf2\n",
    "        }\n",
    "\n",
    "        print(f\"Bound = {bound}, perc. of Fe trans. = {perc}, CMF_in = {cmf1:.4}, CMF_out = {cmf2:.4}\")\n",
    "        grid_index += 1"
   ]
  },
  {
   "cell_type": "code",
   "execution_count": 4,
   "id": "6d78b38d",
   "metadata": {},
   "outputs": [],
   "source": [
    "cmf_grid.to_csv(\"examples/cham_cont/cham_cont_cmf_grid.csv\", index=False)"
   ]
  },
  {
   "cell_type": "code",
   "execution_count": null,
   "id": "1aea78e0",
   "metadata": {},
   "outputs": [],
   "source": []
  }
 ],
 "metadata": {
  "kernelspec": {
   "display_name": "haniyeh_research",
   "language": "python",
   "name": "python3"
  },
  "language_info": {
   "codemirror_mode": {
    "name": "ipython",
    "version": 3
   },
   "file_extension": ".py",
   "mimetype": "text/x-python",
   "name": "python",
   "nbconvert_exporter": "python",
   "pygments_lexer": "ipython3",
   "version": "3.13.2"
  }
 },
 "nbformat": 4,
 "nbformat_minor": 5
}
