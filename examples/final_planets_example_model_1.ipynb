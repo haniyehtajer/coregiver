{
 "cells": [
  {
   "cell_type": "code",
   "execution_count": 1,
   "id": "712ac68e",
   "metadata": {},
   "outputs": [],
   "source": [
    "import os\n",
    "from composition_tracker_v1 import track_composition, write_output # Import the functions"
   ]
  },
  {
   "cell_type": "code",
   "execution_count": 3,
   "id": "c0bcef9e",
   "metadata": {},
   "outputs": [
    {
     "name": "stdout",
     "output_type": "stream",
     "text": [
      "ejections file not found, using an empty file. 0\n",
      "Processed Ueda v1 run 1\n",
      "ejections file not found, using an empty file. 1\n",
      "Processed Ueda v1 run 2\n",
      "ejections file not found, using an empty file. 2\n",
      "Processed Ueda v1 run 3\n",
      "ejections file not found, using an empty file. 4\n",
      "Processed Ueda v1 run 5\n",
      "ejections file found. 6\n",
      "Processed Ueda v1 run 7\n",
      "ejections file found. 8\n",
      "Processed Ueda v1 run 9\n",
      "ejections file found. 9\n",
      "Processed Ueda v1 run 10\n"
     ]
    }
   ],
   "source": [
    "# Loop to do composition tracking for multiple simulations\n",
    "\n",
    "for i in [0, 1, 2, 4, 6, 8, 9]:\n",
    "    collision_file = f\"/Users/honeyeah/Codes/data/ueda_v1/ueda_v1_{i+1}/filtered_collision_report.txt\"\n",
    "    comp_input_file = f\"/Users/honeyeah/Codes/data/ueda_v1/ueda_v1_4/dbct_input.txt\" # This path seems fixed to v1_4, ensure this is intended\n",
    "\n",
    "    ejec_file = f\"/Users/honeyeah/Codes/data/ueda_v1/ueda_v1_{i+1}/ejections.txt\"\n",
    "\n",
    "    if os.path.exists(ejec_file):\n",
    "        print('ejections file found.', i)\n",
    "    else:\n",
    "        ejec_file = \"/Users/honeyeah/Codes/planetgarten/body_composition_tracker/test_input/ejections_empty.txt\"\n",
    "        print(\"ejections file not found, using an empty file.\", i)\n",
    "\n",
    "    comp_output_file = f\"/Users/honeyeah/Codes/data/ueda_v1/ueda_v1_{i+1}/uniform_33_model1_python_test.txt\"\n",
    "\n",
    "    final_compositions = track_composition(collision_file, comp_input_file, ejec_file)\n",
    "    write_output(final_compositions, comp_output_file)\n",
    "    print(f\"Processed Ueda v1 run {i+1}\")"
   ]
  },
  {
   "cell_type": "code",
   "execution_count": null,
   "id": "c91ead3e",
   "metadata": {},
   "outputs": [],
   "source": [
    "# Cham bench loop\n",
    "n_runs = 30 # This variable is not used in the loop, you might want to remove it\n",
    "for i in range(30):\n",
    "    collision_file = f\"/Users/honeyeah/Codes/data/cham_bench/cham_bench_{i+1}/filtered_collision_report_100myrs.txt\"\n",
    "    comp_input_file = f\"/Users/honeyeah/Codes/planetgarten/body_composition_tracker/test_input/uniform_33_cham_bench.txt\"\n",
    "\n",
    "    ejec_file = f\"/Users/honeyeah/Codes/data/cham_bench/cham_bench_{i+1}/ejections.txt\"\n",
    "    if not os.path.exists(collision_file):\n",
    "        print(f\"collision file not found for run {i+1}, skipping.\")\n",
    "        continue\n",
    "\n",
    "    if os.path.exists(ejec_file):\n",
    "        print('ejections file found.', i)\n",
    "    else:\n",
    "        ejec_file = \"/Users/honeyeah/Codes/planetgarten/body_composition_tracker/test_input/ejections_empty.txt\"\n",
    "        print(\"ejections file not found, using an empty file.\", i)\n",
    "\n",
    "    comp_output_file = f\"/Users/honeyeah/Codes/data/cham_bench/cham_bench_{i+1}/uniform_33_model1_100myrs.txt\"\n",
    "\n",
    "    final_compositions = track_composition(collision_file, comp_input_file, ejec_file)\n",
    "    write_output(final_compositions, comp_output_file)\n",
    "    print(f\"Processed Cham bench run {i+1}\")\n"
   ]
  },
  {
   "cell_type": "code",
   "execution_count": null,
   "id": "7e76e28f",
   "metadata": {},
   "outputs": [],
   "source": [
    "# Cham cont loop\n",
    "n_runs = 10 # This variable is not used in the loop, you might want to remove it\n",
    "for i in range(10):\n",
    "    collision_file = f\"/Users/honeyeah/Codes/data/cham_cont/cham_cont_{i+1}/filtered_collision_report.txt\"\n",
    "    comp_input_file = f\"/Users/honeyeah/Codes/planetgarten/body_composition_tracker/test_input/uniform_33_cham_cont.txt\"\n",
    "\n",
    "    ejec_file = f\"/Users/honeyeah/Codes/data/cham_cont/cham_cont_{i+1}/ejections.txt\"\n",
    "\n",
    "    if os.path.exists(ejec_file):\n",
    "        print('ejections file found.', i)\n",
    "    else:\n",
    "        ejec_file = \"/Users/honeyeah/Codes/planetgarten/body_composition_tracker/test_input/ejections_empty.txt\"\n",
    "        print(\"ejections file not found, using an empty file.\", i)\n",
    "\n",
    "    comp_output_file = f\"/Users/honeyeah/Codes/data/cham_cont/cham_cont_{i+1}/uniform_33.txt\"\n",
    "\n",
    "    final_compositions = track_composition(collision_file, comp_input_file, ejec_file)\n",
    "    write_output(final_compositions, comp_output_file)\n",
    "    print(f\"Processed Cham cont run {i+1}\")"
   ]
  }
 ],
 "metadata": {
  "kernelspec": {
   "display_name": "haniyeh_research",
   "language": "python",
   "name": "python3"
  },
  "language_info": {
   "codemirror_mode": {
    "name": "ipython",
    "version": 3
   },
   "file_extension": ".py",
   "mimetype": "text/x-python",
   "name": "python",
   "nbconvert_exporter": "python",
   "pygments_lexer": "ipython3",
   "version": "3.13.2"
  }
 },
 "nbformat": 4,
 "nbformat_minor": 5
}
